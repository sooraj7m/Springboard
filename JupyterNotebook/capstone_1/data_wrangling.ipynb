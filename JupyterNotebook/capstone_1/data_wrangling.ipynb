{
 "cells": [
  {
   "cell_type": "markdown",
   "metadata": {},
   "source": [
    "# Project: Capstone Project 1: Data Wrangling\n",
    "\n",
    "Now that you have a basic ideas of the various data wrangling steps and techniques available, let's apply it to your capstone project.\n",
    "\n",
    "The first step in completing your capstone project is to collect data. \n",
    "Depending on your dataset, you may apply some of the data wrangling techniques that you learned in this unit. Some of you may be using standard datasets and sources, such as Kaggle or Yelp, where minimal or no data wrangling is required. Students often find that this part of the project takes a lot longer than they estimated, which is completely normal. The more work you put in, the more you’ll learn. Data wrangling is an important tool in a data scientist’s toolbox!  \n",
    "\n",
    "Steps:\n",
    "Create a Google Doc (1-2 pages) describing the data wrangling steps you took to clean the dataset. Include answers to these questions in your submission:\n",
    "\n",
    "What kind of cleaning steps did you perform?\n",
    "\n",
    "How did you deal with missing values, if any?\n",
    "\n",
    "Were there outliers, and how did you handle them?\n",
    "\n",
    "Submit a link to the document.\n",
    "\n",
    "Discuss it with your mentor at the next call.\n",
    "\n",
    "Revise and resubmit if needed.\n",
    "\n",
    "Convert the final document to a .pdf and add it to your GitHub repository for this project. \n",
    "This document will eventually become part of your milestone report.\n",
    "\n",
    "---\n",
    "Steps I will be taking:\n",
    "1. Collect data from Quandl. Qaundl is currently the most widely used aggregator of financial market data. API Excercie Notes: You will need to register for a free account on the http://www.quandl.com website.After you register, you will be provided with a unique API key.\n",
    "2. "
   ]
  },
  {
   "cell_type": "code",
   "execution_count": 2,
   "metadata": {
    "scrolled": true
   },
   "outputs": [],
   "source": [
    "# Store the API key as a string - according to PEP8, constants are always named in all upper case\n",
    "API_KEY = 'caSsMS95EZAzdK77dMsj'"
   ]
  },
  {
   "cell_type": "code",
   "execution_count": 71,
   "metadata": {},
   "outputs": [],
   "source": [
    "# set variables\n",
    "start_dt = '2018-01-01'\n",
    "end_dt = '2018-12-01'"
   ]
  },
  {
   "cell_type": "code",
   "execution_count": 72,
   "metadata": {},
   "outputs": [
    {
     "name": "stdout",
     "output_type": "stream",
     "text": [
      "[*********************100%***********************]  1 of 1 downloaded\n"
     ]
    },
    {
     "data": {
      "image/png": "[encoded data removed]",
      "text/plain": [
       "<matplotlib.figure.Figure at 0x110e14588>"
      ]
     },
     "metadata": {},
     "output_type": "display_data"
    }
   ],
   "source": [
    "# Download Option1: Yahoo Finance\n",
    "# Need to install fix_yahoo_finance using command <pip install fix_yahoo_finance> on terminal\n",
    "import matplotlib.pyplot as plt\n",
    "import fix_yahoo_finance as yf  \n",
    "y_esv = yf.download('ESV',start_dt, end_dt)\n",
    "data.Close.plot()\n",
    "plt.show()"
   ]
  },
  {
   "cell_type": "code",
   "execution_count": 73,
   "metadata": {},
   "outputs": [
    {
     "data": {
      "text/html": [
       "<div>\n",
       "<style>\n",
       "    .dataframe thead tr:only-child th {\n",
       "        text-align: right;\n",
       "    }\n",
       "\n",
       "    .dataframe thead th {\n",
       "        text-align: left;\n",
       "    }\n",
       "\n",
       "    .dataframe tbody tr th {\n",
       "        vertical-align: top;\n",
       "    }\n",
       "</style>\n",
       "<table border=\"1\" class=\"dataframe\">\n",
       "  <thead>\n",
       "    <tr style=\"text-align: right;\">\n",
       "      <th></th>\n",
       "      <th>Open</th>\n",
       "      <th>High</th>\n",
       "      <th>Low</th>\n",
       "      <th>Close</th>\n",
       "      <th>Adj Close</th>\n",
       "      <th>Volume</th>\n",
       "    </tr>\n",
       "    <tr>\n",
       "      <th>Date</th>\n",
       "      <th></th>\n",
       "      <th></th>\n",
       "      <th></th>\n",
       "      <th></th>\n",
       "      <th></th>\n",
       "      <th></th>\n",
       "    </tr>\n",
       "  </thead>\n",
       "  <tbody>\n",
       "    <tr>\n",
       "      <th>2018-01-02</th>\n",
       "      <td>5.96</td>\n",
       "      <td>6.20</td>\n",
       "      <td>5.83</td>\n",
       "      <td>6.17</td>\n",
       "      <td>6.146695</td>\n",
       "      <td>11679300</td>\n",
       "    </tr>\n",
       "    <tr>\n",
       "      <th>2018-01-03</th>\n",
       "      <td>6.26</td>\n",
       "      <td>6.66</td>\n",
       "      <td>6.06</td>\n",
       "      <td>6.61</td>\n",
       "      <td>6.585033</td>\n",
       "      <td>19748500</td>\n",
       "    </tr>\n",
       "    <tr>\n",
       "      <th>2018-01-04</th>\n",
       "      <td>6.63</td>\n",
       "      <td>6.87</td>\n",
       "      <td>6.33</td>\n",
       "      <td>6.82</td>\n",
       "      <td>6.794240</td>\n",
       "      <td>17922500</td>\n",
       "    </tr>\n",
       "    <tr>\n",
       "      <th>2018-01-05</th>\n",
       "      <td>6.77</td>\n",
       "      <td>6.81</td>\n",
       "      <td>6.57</td>\n",
       "      <td>6.71</td>\n",
       "      <td>6.684655</td>\n",
       "      <td>11174400</td>\n",
       "    </tr>\n",
       "    <tr>\n",
       "      <th>2018-01-08</th>\n",
       "      <td>6.74</td>\n",
       "      <td>7.14</td>\n",
       "      <td>6.69</td>\n",
       "      <td>7.08</td>\n",
       "      <td>7.053257</td>\n",
       "      <td>14706500</td>\n",
       "    </tr>\n",
       "  </tbody>\n",
       "</table>\n",
       "</div>"
      ],
      "text/plain": [
       "            Open  High   Low  Close  Adj Close    Volume\n",
       "Date                                                    \n",
       "2018-01-02  5.96  6.20  5.83   6.17   6.146695  11679300\n",
       "2018-01-03  6.26  6.66  6.06   6.61   6.585033  19748500\n",
       "2018-01-04  6.63  6.87  6.33   6.82   6.794240  17922500\n",
       "2018-01-05  6.77  6.81  6.57   6.71   6.684655  11174400\n",
       "2018-01-08  6.74  7.14  6.69   7.08   7.053257  14706500"
      ]
     },
     "execution_count": 73,
     "metadata": {},
     "output_type": "execute_result"
    }
   ],
   "source": [
    "y_esv.head()"
   ]
  },
  {
   "cell_type": "code",
   "execution_count": 79,
   "metadata": {},
   "outputs": [
    {
     "data": {
      "image/png": "[encoded data removed]",
      "text/plain": [
       "<matplotlib.figure.Figure at 0x110df4320>"
      ]
     },
     "metadata": {},
     "output_type": "display_data"
    }
   ],
   "source": [
    "# Download Option2: Quandl\n",
    "import matplotlib.pyplot as plt\n",
    "import quandl\n",
    "q_esv = quandl.get(\"WIKI/ESV\", start_date=\"2018-01-01\", end_date=\"2018-12-01\", api_key=API_KEY)\n",
    "data.Close.plot()\n",
    "plt.show()"
   ]
  },
  {
   "cell_type": "code",
   "execution_count": 83,
   "metadata": {},
   "outputs": [
    {
     "data": {
      "text/html": [
       "<div>\n",
       "<style>\n",
       "    .dataframe thead tr:only-child th {\n",
       "        text-align: right;\n",
       "    }\n",
       "\n",
       "    .dataframe thead th {\n",
       "        text-align: left;\n",
       "    }\n",
       "\n",
       "    .dataframe tbody tr th {\n",
       "        vertical-align: top;\n",
       "    }\n",
       "</style>\n",
       "<table border=\"1\" class=\"dataframe\">\n",
       "  <thead>\n",
       "    <tr style=\"text-align: right;\">\n",
       "      <th></th>\n",
       "      <th>Open</th>\n",
       "      <th>High</th>\n",
       "      <th>Low</th>\n",
       "      <th>Close</th>\n",
       "      <th>Volume</th>\n",
       "      <th>Ex-Dividend</th>\n",
       "      <th>Split Ratio</th>\n",
       "      <th>Adj. Open</th>\n",
       "      <th>Adj. High</th>\n",
       "      <th>Adj. Low</th>\n",
       "      <th>Adj. Close</th>\n",
       "      <th>Adj. Volume</th>\n",
       "    </tr>\n",
       "    <tr>\n",
       "      <th>Date</th>\n",
       "      <th></th>\n",
       "      <th></th>\n",
       "      <th></th>\n",
       "      <th></th>\n",
       "      <th></th>\n",
       "      <th></th>\n",
       "      <th></th>\n",
       "      <th></th>\n",
       "      <th></th>\n",
       "      <th></th>\n",
       "      <th></th>\n",
       "      <th></th>\n",
       "    </tr>\n",
       "  </thead>\n",
       "  <tbody>\n",
       "    <tr>\n",
       "      <th>2018-03-01</th>\n",
       "      <td>4.47</td>\n",
       "      <td>4.60</td>\n",
       "      <td>4.380</td>\n",
       "      <td>4.46</td>\n",
       "      <td>13505347.0</td>\n",
       "      <td>0.0</td>\n",
       "      <td>1.0</td>\n",
       "      <td>4.47</td>\n",
       "      <td>4.60</td>\n",
       "      <td>4.380</td>\n",
       "      <td>4.46</td>\n",
       "      <td>13505347.0</td>\n",
       "    </tr>\n",
       "    <tr>\n",
       "      <th>2018-03-02</th>\n",
       "      <td>4.41</td>\n",
       "      <td>4.43</td>\n",
       "      <td>4.100</td>\n",
       "      <td>4.42</td>\n",
       "      <td>25445039.0</td>\n",
       "      <td>0.0</td>\n",
       "      <td>1.0</td>\n",
       "      <td>4.41</td>\n",
       "      <td>4.43</td>\n",
       "      <td>4.100</td>\n",
       "      <td>4.42</td>\n",
       "      <td>25445039.0</td>\n",
       "    </tr>\n",
       "    <tr>\n",
       "      <th>2018-03-05</th>\n",
       "      <td>4.41</td>\n",
       "      <td>4.74</td>\n",
       "      <td>4.405</td>\n",
       "      <td>4.67</td>\n",
       "      <td>14821002.0</td>\n",
       "      <td>0.0</td>\n",
       "      <td>1.0</td>\n",
       "      <td>4.41</td>\n",
       "      <td>4.74</td>\n",
       "      <td>4.405</td>\n",
       "      <td>4.67</td>\n",
       "      <td>14821002.0</td>\n",
       "    </tr>\n",
       "    <tr>\n",
       "      <th>2018-03-06</th>\n",
       "      <td>4.71</td>\n",
       "      <td>4.80</td>\n",
       "      <td>4.540</td>\n",
       "      <td>4.60</td>\n",
       "      <td>13164321.0</td>\n",
       "      <td>0.0</td>\n",
       "      <td>1.0</td>\n",
       "      <td>4.71</td>\n",
       "      <td>4.80</td>\n",
       "      <td>4.540</td>\n",
       "      <td>4.60</td>\n",
       "      <td>13164321.0</td>\n",
       "    </tr>\n",
       "    <tr>\n",
       "      <th>2018-03-07</th>\n",
       "      <td>4.54</td>\n",
       "      <td>4.64</td>\n",
       "      <td>4.400</td>\n",
       "      <td>4.52</td>\n",
       "      <td>11906784.0</td>\n",
       "      <td>0.0</td>\n",
       "      <td>1.0</td>\n",
       "      <td>4.54</td>\n",
       "      <td>4.64</td>\n",
       "      <td>4.400</td>\n",
       "      <td>4.52</td>\n",
       "      <td>11906784.0</td>\n",
       "    </tr>\n",
       "  </tbody>\n",
       "</table>\n",
       "</div>"
      ],
      "text/plain": [
       "            Open  High    Low  Close      Volume  Ex-Dividend  Split Ratio  \\\n",
       "Date                                                                         \n",
       "2018-03-01  4.47  4.60  4.380   4.46  13505347.0          0.0          1.0   \n",
       "2018-03-02  4.41  4.43  4.100   4.42  25445039.0          0.0          1.0   \n",
       "2018-03-05  4.41  4.74  4.405   4.67  14821002.0          0.0          1.0   \n",
       "2018-03-06  4.71  4.80  4.540   4.60  13164321.0          0.0          1.0   \n",
       "2018-03-07  4.54  4.64  4.400   4.52  11906784.0          0.0          1.0   \n",
       "\n",
       "            Adj. Open  Adj. High  Adj. Low  Adj. Close  Adj. Volume  \n",
       "Date                                                                 \n",
       "2018-03-01       4.47       4.60     4.380        4.46   13505347.0  \n",
       "2018-03-02       4.41       4.43     4.100        4.42   25445039.0  \n",
       "2018-03-05       4.41       4.74     4.405        4.67   14821002.0  \n",
       "2018-03-06       4.71       4.80     4.540        4.60   13164321.0  \n",
       "2018-03-07       4.54       4.64     4.400        4.52   11906784.0  "
      ]
     },
     "execution_count": 83,
     "metadata": {},
     "output_type": "execute_result"
    }
   ],
   "source": [
    "q_esv.head()"
   ]
  },
  {
   "cell_type": "code",
   "execution_count": 81,
   "metadata": {},
   "outputs": [],
   "source": [
    "# Get max open, high, low and close for the selecte period\n",
    "mao=max(q_esv.Open)\n",
    "mah=max(q_esv.High)\n",
    "mal=max(q_esv.Low)\n",
    "mac=max(q_esv.Close)"
   ]
  },
  {
   "cell_type": "code",
   "execution_count": 82,
   "metadata": {},
   "outputs": [],
   "source": [
    "# Get min open, high, low and close for the selecte period\n",
    "mio=min(q_esv.Open)\n",
    "mih=min(q_esv.High)\n",
    "mil=min(q_esv.Low)\n",
    "mic=min(q_esv.Close)"
   ]
  },
  {
   "cell_type": "code",
   "execution_count": 62,
   "metadata": {},
   "outputs": [
    {
     "name": "stdout",
     "output_type": "stream",
     "text": [
      "Maxs -  Open: 15.67  High: 16.1  Low: 15.08  Close: 15.89\n",
      "Mins -  Open: 4.41  High: 4.43  Low: 4.1  Close: 4.42\n"
     ]
    }
   ],
   "source": [
    "print('Maxs - ','Open:',mao,' High:',mah, ' Low:',mal, ' Close:',mac)\n",
    "print('Mins - ','Open:',mio,' High:',mih, ' Low:',mil, ' Close:',mic)"
   ]
  },
  {
   "cell_type": "code",
   "execution_count": null,
   "metadata": {
    "collapsed": true
   },
   "outputs": [],
   "source": []
  }
 ],
 "metadata": {
  "kernelspec": {
   "display_name": "Python 3",
   "language": "python",
   "name": "python3"
  },
  "language_info": {
   "codemirror_mode": {
    "name": "ipython",
    "version": 3
   },
   "file_extension": ".py",
   "mimetype": "text/x-python",
   "name": "python",
   "nbconvert_exporter": "python",
   "pygments_lexer": "ipython3",
   "version": "3.6.3"
  }
 },
 "nbformat": 4,
 "nbformat_minor": 2
}
